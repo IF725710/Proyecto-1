{
 "cells": [
  {
   "cell_type": "markdown",
   "metadata": {},
   "source": [
    "\n",
    "# Poyecto 1 programación lineal \n",
    "### Optimización. Maximizar utilidades\n",
    "Una compañía fabrica automóviles, camionetas, motos y camiones. Cada uno le da una utilidad de $\\$30,000$ pesos, $\\$40,000$ pesos, $\\$15,000$ y $\\$50,000$ respectivamente. \n",
    "\n",
    "Al mes la cantidad máxima que se puede producir de carros es de 400.  De camionetas máximo 350, motos 250 y camiones 100. La fabrica solo puede trabajar 720 horas al mes, la producción de cada vehículo en cuestión del tiempo es de una hora. \n",
    "La compañía quiere saber cuantas vehículos fabricar al mes para alcanzar su utilidad máxima. Suponiendo que todo lo vende."
   ]
  },
  {
   "cell_type": "markdown",
   "metadata": {},
   "source": [
    "---"
   ]
  },
  {
   "cell_type": "code",
   "execution_count": 64,
   "metadata": {},
   "outputs": [],
   "source": [
    "# Importar librerías \n",
    "\n",
    "import scipy.optimize as opt\n",
    "import numpy as np "
   ]
  },
  {
   "cell_type": "code",
   "execution_count": 65,
   "metadata": {},
   "outputs": [
    {
     "data": {
      "text/plain": [
       "array([270., 350.,   0., 100.])"
      ]
     },
     "execution_count": 65,
     "metadata": {},
     "output_type": "execute_result"
    }
   ],
   "source": [
    "# Definir matrices \n",
    "\n",
    "C=np.array([-30000,-40000,-15000,-50000])\n",
    "A=np.array([[1,0,0,0],[0,1,0,0],[0,0,1,0],[0,0,0,1],[1,1,1,1]])\n",
    "B=np.array([400,350,250,100,720])\n",
    "\n",
    "\n",
    "sol=opt.linprog(C,A,B,method='simplex')\n",
    "sol.x"
   ]
  },
  {
   "cell_type": "markdown",
   "metadata": {},
   "source": [
    "Para alcanzar la máxima utilidad se necesitan fabricar 270 autos, 350 camionetas, 0 motos y 100 camiones. "
   ]
  },
  {
   "cell_type": "code",
   "execution_count": 66,
   "metadata": {},
   "outputs": [
    {
     "data": {
      "text/plain": [
       "27100000.0"
      ]
     },
     "execution_count": 66,
     "metadata": {},
     "output_type": "execute_result"
    }
   ],
   "source": [
    "# Mostrar la utilidad máxima\n",
    "(-1)*(sol.fun)"
   ]
  },
  {
   "cell_type": "markdown",
   "metadata": {},
   "source": [
    "La ganancia máxima es de $\\$27,100,000$ pesos al mes"
   ]
  }
 ],
 "metadata": {
  "kernelspec": {
   "display_name": "Python 3",
   "language": "python",
   "name": "python3"
  },
  "language_info": {
   "codemirror_mode": {
    "name": "ipython",
    "version": 3
   },
   "file_extension": ".py",
   "mimetype": "text/x-python",
   "name": "python",
   "nbconvert_exporter": "python",
   "pygments_lexer": "ipython3",
   "version": "3.7.4"
  }
 },
 "nbformat": 4,
 "nbformat_minor": 2
}
